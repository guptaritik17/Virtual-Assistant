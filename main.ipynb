{
 "cells": [
  {
   "cell_type": "code",
   "execution_count": 1,
   "id": "b9b89fdb",
   "metadata": {},
   "outputs": [
    {
     "name": "stderr",
     "output_type": "stream",
     "text": [
      "c:\\Users\\gupta\\Desktop\\Virtual Assistant\\walmart-assistant-env\\Lib\\site-packages\\tqdm\\auto.py:21: TqdmWarning: IProgress not found. Please update jupyter and ipywidgets. See https://ipywidgets.readthedocs.io/en/stable/user_install.html\n",
      "  from .autonotebook import tqdm as notebook_tqdm\n"
     ]
    }
   ],
   "source": [
    "import os\n",
    "from dotenv import load_dotenv\n",
    "import google.generativeai as genai"
   ]
  },
  {
   "cell_type": "code",
   "execution_count": 2,
   "id": "938e2aa7",
   "metadata": {},
   "outputs": [
    {
     "data": {
      "text/plain": [
       "True"
      ]
     },
     "execution_count": 2,
     "metadata": {},
     "output_type": "execute_result"
    }
   ],
   "source": [
    "# Load the .env file\n",
    "\n",
    "load_dotenv()"
   ]
  },
  {
   "cell_type": "code",
   "execution_count": 3,
   "id": "72d4c15c",
   "metadata": {},
   "outputs": [],
   "source": [
    "# Fetch API key\n",
    "api_key = os.getenv(\"GOOGLE_API_KEY\")"
   ]
  },
  {
   "cell_type": "code",
   "execution_count": 4,
   "id": "2ed32e7d",
   "metadata": {},
   "outputs": [],
   "source": [
    "# Configure Gemini\n",
    "genai.configure(api_key=api_key)"
   ]
  },
  {
   "cell_type": "code",
   "execution_count": 5,
   "id": "39633409",
   "metadata": {},
   "outputs": [],
   "source": [
    "# Initialize the model\n",
    "model = genai.GenerativeModel(\"gemini-1.5-flash\")"
   ]
  },
  {
   "cell_type": "code",
   "execution_count": null,
   "id": "15d9610b",
   "metadata": {},
   "outputs": [],
   "source": [
    "# Simple test prompt\n",
    "response = model.generate_content(\"What are the best laptops under ₹50,000 for students?\")\n",
    "print(response.text)"
   ]
  },
  {
   "cell_type": "code",
   "execution_count": 9,
   "id": "24782a90",
   "metadata": {},
   "outputs": [],
   "source": [
    "user_state = {\n",
    "    \"category\": None,\n",
    "    \"budget\": None,\n",
    "    \"use_case\": None,\n",
    "    \"brand_preferences\": [],\n",
    "    \"important_features\": [],\n",
    "    \"excluded_features\": [],\n",
    "    \"suggested_products\": [],\n",
    "    \"chat_history\": []\n",
    "}"
   ]
  },
  {
   "cell_type": "code",
   "execution_count": 10,
   "id": "5bde27bc",
   "metadata": {},
   "outputs": [],
   "source": [
    "user_input = \"I want a phone for basic usage such as camera and basic calling and busget is 150$\""
   ]
  },
  {
   "cell_type": "code",
   "execution_count": 11,
   "id": "ce0bd6a1",
   "metadata": {},
   "outputs": [],
   "source": [
    "# ...existing code...\n",
    "prompt = f\"\"\"\n",
    "IMPORTANT: You MUST always explain every technical term or jargon you use, immediately after mentioning it, in simple language. \n",
    "For example: \"This is a top load washing machine (which means you load clothes from the top).\"\n",
    "\n",
    "You are a smart shopping assistant for Walmart.\n",
    "The user said: \"{user_input}\"\n",
    "\n",
    "Their current preferences:\n",
    "- Category: {user_state['category']}\n",
    "- Budget: {user_state['budget']}\n",
    "- Use case: {user_state['use_case']}\n",
    "- Preferred brands: {', '.join(user_state['brand_preferences'])}\n",
    "- Important features: {', '.join(user_state['important_features'])}\n",
    "\n",
    "Based on this, do one of the following:\n",
    "1. Ask a clarifying question if needed.\n",
    "2. Recommend products (example-based).\n",
    "3. Explain any technical terms you use.\n",
    "4. Update their preferences if something new was mentioned.\n",
    "\n",
    "Respond like a helpful assistant.\n",
    "\"\"\"\n",
    "# ...existing code..."
   ]
  },
  {
   "cell_type": "code",
   "execution_count": 12,
   "id": "6bcf8542",
   "metadata": {},
   "outputs": [
    {
     "name": "stdout",
     "output_type": "stream",
     "text": [
      "\n",
      "🛍️ Assistant:\n",
      "Okay, a phone for basic calling and camera use with a $150 budget.  That's helpful! To give you the best recommendations, I need a little more information.\n",
      "\n",
      "Do you have a preference for a particular operating system (OS), like Android or iOS (Apple)?  An OS is basically the software that runs the phone and determines how you interact with it. Android is known for its open-source nature and customization options, while iOS is known for its simplicity and user-friendliness.\n",
      "\n",
      "Once I know your OS preference (or if you don't have one!), I can start suggesting some great Walmart options within your price range.\n",
      "\n"
     ]
    }
   ],
   "source": [
    "#Getting response from the model\n",
    "response = model.generate_content(prompt)\n",
    "assistant_reply = response.text\n",
    "print(f\"\\n🛍️ Assistant:\\n{response.text}\")"
   ]
  },
  {
   "cell_type": "code",
   "execution_count": 13,
   "id": "4b7895d7",
   "metadata": {},
   "outputs": [],
   "source": [
    "# Update user state with the assistant's reply\n",
    "user_state[\"chat_history\"].append({\n",
    "    \"user\": user_input,\n",
    "    \"assistant\": assistant_reply\n",
    "})"
   ]
  },
  {
   "cell_type": "code",
   "execution_count": 14,
   "id": "f99e8a60",
   "metadata": {},
   "outputs": [],
   "source": [
    "# Using the state extraction prompt to extract new preferences\n",
    "# This is a separate prompt to extract any new preferences from the user input and assistant reply\n",
    "state_extraction_prompt = f\"\"\"\n",
    "You are an intelligent state extraction system.\n",
    "Based on the user input and assistant reply, extract any new preferences.\n",
    "\n",
    "User: \"{user_input}\"\n",
    "Assistant: \"{assistant_reply}\"\n",
    "\n",
    "Return only the updated fields in this JSON format:\n",
    "{{\n",
    "  \"budget\": \"...\",\n",
    "  \"use_case\": \"...\",\n",
    "  \"category\": \"...\",\n",
    "  \"brand_preferences\": [\"...\"],\n",
    "  \"important_features\": [\"...\"],\n",
    "  \"excluded_features\": [\"...\"]\n",
    "}}\n",
    "If nothing was mentioned, return an empty JSON object: {{}}\n",
    "\"\"\""
   ]
  },
  {
   "cell_type": "code",
   "execution_count": 18,
   "id": "6d911858",
   "metadata": {},
   "outputs": [],
   "source": [
    "import json\n",
    "state_response = model.generate_content(state_extraction_prompt)\n",
    "\n",
    "import re\n",
    "raw = state_response.text\n",
    "match = re.search(r'\\{.*\\}', raw, re.DOTALL)\n",
    "if match:\n",
    "    extracted = json.loads(match.group())\n",
    "    # Update user_state with extracted values\n",
    "    for key, value in extracted.items():\n",
    "        if key in user_state:\n",
    "            user_state[key] = value\n",
    "else:\n",
    "    print(\"No JSON found in response.\")"
   ]
  },
  {
   "cell_type": "code",
   "execution_count": 19,
   "id": "7ca53b82",
   "metadata": {},
   "outputs": [
    {
     "name": "stdout",
     "output_type": "stream",
     "text": [
      "\n",
      "📦 Updated User State:\n",
      "{\n",
      "  \"category\": \"phone\",\n",
      "  \"budget\": \"150$\",\n",
      "  \"use_case\": \"basic calling and camera use\",\n",
      "  \"brand_preferences\": [],\n",
      "  \"important_features\": [\n",
      "    \"camera\",\n",
      "    \"basic calling\"\n",
      "  ],\n",
      "  \"excluded_features\": [],\n",
      "  \"suggested_products\": [],\n",
      "  \"chat_history\": [\n",
      "    {\n",
      "      \"user\": \"I want a phone for basic usage such as camera and basic calling and busget is 150$\",\n",
      "      \"assistant\": \"Okay, a phone for basic calling and camera use with a $150 budget.  That's helpful! To give you the best recommendations, I need a little more information.\\n\\nDo you have a preference for a particular operating system (OS), like Android or iOS (Apple)?  An OS is basically the software that runs the phone and determines how you interact with it. Android is known for its open-source nature and customization options, while iOS is known for its simplicity and user-friendliness.\\n\\nOnce I know your OS preference (or if you don't have one!), I can start suggesting some great Walmart options within your price range.\\n\"\n",
      "    }\n",
      "  ]\n",
      "}\n"
     ]
    }
   ],
   "source": [
    "# Print the updated user state for verification\n",
    "\n",
    "print(\"\\n📦 Updated User State:\")\n",
    "print(json.dumps(user_state, indent=2))"
   ]
  },
  {
   "cell_type": "code",
   "execution_count": null,
   "id": "d97c4db3",
   "metadata": {},
   "outputs": [],
   "source": [
    "import re\n",
    "import json\n",
    "\n",
    "while True:\n",
    "    user_input = input(\"👤 You: \")\n",
    "    if user_input.strip().lower() in [\"stop\", \"exit\", \"quit\"]:\n",
    "        print(\"👋 Conversation ended.\")\n",
    "        break\n",
    "\n",
    "    # Build prompt with current state\n",
    "    prompt = f\"\"\"\n",
    "IMPORTANT: You MUST always explain every technical term or jargon you use, immediately after mentioning it, in simple language.\n",
    "For example: \"This is a top load washing machine (which means you load clothes from the top).\"\n",
    "\n",
    "You are a smart shopping assistant for Walmart.\n",
    "The user said: \"{user_input}\"\n",
    "\n",
    "Their current preferences:\n",
    "- Category: {user_state['category']}\n",
    "- Budget: {user_state['budget']}\n",
    "- Use case: {user_state['use_case']}\n",
    "- Preferred brands: {', '.join(user_state['brand_preferences'])}\n",
    "- Important features: {', '.join(user_state['important_features'])}\n",
    "\n",
    "Based on this, do one of the following:\n",
    "1. Ask a clarifying question if needed.\n",
    "2. Recommend products (example-based).\n",
    "3. Explain any technical terms you use.\n",
    "4. Update their preferences if something new was mentioned.\n",
    "\n",
    "Respond like a helpful assistant.\n",
    "\"\"\"\n",
    "\n",
    "    response = model.generate_content(prompt)\n",
    "    assistant_reply = response.text\n",
    "    print(f\"\\n🛍️ Assistant:\\n{assistant_reply}\")\n",
    "\n",
    "    # Update chat history\n",
    "    user_state[\"chat_history\"].append({\n",
    "        \"user\": user_input,\n",
    "        \"assistant\": assistant_reply\n",
    "    })\n",
    "\n",
    "    # Extract new preferences from the conversation\n",
    "    state_extraction_prompt = f\"\"\"\n",
    "You are an intelligent state extraction system.\n",
    "Based on the user input and assistant reply, extract any new preferences.\n",
    "\n",
    "User: \"{user_input}\"\n",
    "Assistant: \"{assistant_reply}\"\n",
    "\n",
    "Return only the updated fields in this JSON format:\n",
    "{{\n",
    "  \"budget\": \"...\",\n",
    "  \"use_case\": \"...\",\n",
    "  \"category\": \"...\",\n",
    "  \"brand_preferences\": [\"...\"],\n",
    "  \"important_features\": [\"...\"],\n",
    "  \"excluded_features\": [\"...\"]\n",
    "}}\n",
    "If nothing was mentioned, return an empty JSON object: {{}}\n",
    "\"\"\"\n",
    "    state_response = model.generate_content(state_extraction_prompt)\n",
    "    raw = state_response.text\n",
    "    match = re.search(r'\\{.*\\}', raw, re.DOTALL)\n",
    "    if match:\n",
    "        extracted = json.loads(match.group())\n",
    "        for key, value in extracted.items():\n",
    "            if key in user_state:\n",
    "                user_state[key] = value\n",
    "    else:\n",
    "        print(\"No JSON found in response.\")\n",
    "\n",
    "    # Optionally, print updated state for debugging\n",
    "    # print(\"\\n📦 Updated User State:\")\n",
    "    # print(json.dumps(user_state, indent=2))"
   ]
  },
  {
   "cell_type": "code",
   "execution_count": null,
   "id": "5c8de5d7",
   "metadata": {},
   "outputs": [],
   "source": []
  },
  {
   "cell_type": "code",
   "execution_count": null,
   "id": "b52ef9ea",
   "metadata": {},
   "outputs": [],
   "source": []
  }
 ],
 "metadata": {
  "kernelspec": {
   "display_name": "walmart-assistant-env",
   "language": "python",
   "name": "python3"
  },
  "language_info": {
   "codemirror_mode": {
    "name": "ipython",
    "version": 3
   },
   "file_extension": ".py",
   "mimetype": "text/x-python",
   "name": "python",
   "nbconvert_exporter": "python",
   "pygments_lexer": "ipython3",
   "version": "3.12.4"
  }
 },
 "nbformat": 4,
 "nbformat_minor": 5
}
