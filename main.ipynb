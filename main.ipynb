{
 "cells": [
  {
   "cell_type": "code",
   "execution_count": 1,
   "id": "b9b89fdb",
   "metadata": {},
   "outputs": [
    {
     "name": "stderr",
     "output_type": "stream",
     "text": [
      "c:\\Users\\gupta\\Desktop\\Virtual Assistant\\walmart-assistant-env\\Lib\\site-packages\\tqdm\\auto.py:21: TqdmWarning: IProgress not found. Please update jupyter and ipywidgets. See https://ipywidgets.readthedocs.io/en/stable/user_install.html\n",
      "  from .autonotebook import tqdm as notebook_tqdm\n"
     ]
    }
   ],
   "source": [
    "import os\n",
    "from dotenv import load_dotenv\n",
    "import google.generativeai as genai"
   ]
  },
  {
   "cell_type": "code",
   "execution_count": 2,
   "id": "938e2aa7",
   "metadata": {},
   "outputs": [
    {
     "data": {
      "text/plain": [
       "True"
      ]
     },
     "execution_count": 2,
     "metadata": {},
     "output_type": "execute_result"
    }
   ],
   "source": [
    "# Load the .env file\n",
    "\n",
    "load_dotenv()"
   ]
  },
  {
   "cell_type": "code",
   "execution_count": 3,
   "id": "72d4c15c",
   "metadata": {},
   "outputs": [],
   "source": [
    "# Fetch API key\n",
    "api_key = os.getenv(\"GOOGLE_API_KEY\")"
   ]
  },
  {
   "cell_type": "code",
   "execution_count": 4,
   "id": "2ed32e7d",
   "metadata": {},
   "outputs": [],
   "source": [
    "# Configure Gemini\n",
    "genai.configure(api_key=api_key)"
   ]
  },
  {
   "cell_type": "code",
   "execution_count": 5,
   "id": "39633409",
   "metadata": {},
   "outputs": [],
   "source": [
    "# Initialize the model\n",
    "model = genai.GenerativeModel(\"gemini-1.5-flash\")"
   ]
  },
  {
   "cell_type": "code",
   "execution_count": null,
   "id": "15d9610b",
   "metadata": {},
   "outputs": [],
   "source": [
    "# Simple test prompt\n",
    "response = model.generate_content(\"What are the best laptops under ₹50,000 for students?\")\n",
    "print(response.text)"
   ]
  },
  {
   "cell_type": "code",
   "execution_count": 6,
   "id": "24782a90",
   "metadata": {},
   "outputs": [],
   "source": [
    "user_state = {\n",
    "    \"category\": None,\n",
    "    \"budget\": None,\n",
    "    \"use_case\": None,\n",
    "    \"brand_preferences\": [],\n",
    "    \"important_features\": [],\n",
    "    \"excluded_features\": [],\n",
    "    \"suggested_products\": []\n",
    "}"
   ]
  },
  {
   "cell_type": "code",
   "execution_count": 13,
   "id": "5bde27bc",
   "metadata": {},
   "outputs": [],
   "source": [
    "user_input = \"I want a phone for basic usage such as camera and basic calling and busget is 150$\""
   ]
  },
  {
   "cell_type": "code",
   "execution_count": 14,
   "id": "ce0bd6a1",
   "metadata": {},
   "outputs": [],
   "source": [
    "# ...existing code...\n",
    "prompt = f\"\"\"\n",
    "IMPORTANT: You MUST always explain every technical term or jargon you use, immediately after mentioning it, in simple language. \n",
    "For example: \"This is a top load washing machine (which means you load clothes from the top).\"\n",
    "\n",
    "You are a smart shopping assistant for Walmart.\n",
    "The user said: \"{user_input}\"\n",
    "\n",
    "Their current preferences:\n",
    "- Category: {user_state['category']}\n",
    "- Budget: {user_state['budget']}\n",
    "- Use case: {user_state['use_case']}\n",
    "- Preferred brands: {', '.join(user_state['brand_preferences'])}\n",
    "- Important features: {', '.join(user_state['important_features'])}\n",
    "\n",
    "Based on this, do one of the following:\n",
    "1. Ask a clarifying question if needed.\n",
    "2. Recommend products (example-based).\n",
    "3. Explain any technical terms you use.\n",
    "4. Update their preferences if something new was mentioned.\n",
    "\n",
    "Respond like a helpful assistant.\n",
    "\"\"\"\n",
    "# ...existing code..."
   ]
  },
  {
   "cell_type": "code",
   "execution_count": 15,
   "id": "6bcf8542",
   "metadata": {},
   "outputs": [
    {
     "name": "stdout",
     "output_type": "stream",
     "text": [
      "\n",
      "🛍️ Assistant:\n",
      "Okay, a phone for basic calling and camera use with a $150 budget.  That's a great starting point!\n",
      "\n",
      "To help me find the perfect phone for you, could you tell me if you prefer an Android phone or an iPhone?  This will help narrow down the options significantly.  (Android and iPhone are the two main operating systems for smartphones.  Think of it like the main software that runs the phone.)\n",
      "\n"
     ]
    }
   ],
   "source": [
    "response = model.generate_content(prompt)\n",
    "print(f\"\\n🛍️ Assistant:\\n{response.text}\")"
   ]
  },
  {
   "cell_type": "code",
   "execution_count": null,
   "id": "4b7895d7",
   "metadata": {},
   "outputs": [],
   "source": []
  }
 ],
 "metadata": {
  "kernelspec": {
   "display_name": "walmart-assistant-env",
   "language": "python",
   "name": "python3"
  },
  "language_info": {
   "codemirror_mode": {
    "name": "ipython",
    "version": 3
   },
   "file_extension": ".py",
   "mimetype": "text/x-python",
   "name": "python",
   "nbconvert_exporter": "python",
   "pygments_lexer": "ipython3",
   "version": "3.12.4"
  }
 },
 "nbformat": 4,
 "nbformat_minor": 5
}
